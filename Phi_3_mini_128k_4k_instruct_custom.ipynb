{
  "cells": [
    {
      "cell_type": "markdown",
      "metadata": {
        "id": "view-in-github",
        "colab_type": "text"
      },
      "source": [
        "<a href=\"https://colab.research.google.com/github/InovationProject/llm_customization/blob/main/Phi_3_mini_128k_4k_instruct_custom.ipynb\" target=\"_parent\"><img src=\"https://colab.research.google.com/assets/colab-badge.svg\" alt=\"Open In Colab\"/></a>"
      ]
    },
    {
      "cell_type": "markdown",
      "source": [
        "**model Upload(/content/checkpoint.zip )**"
      ],
      "metadata": {
        "id": "2N9n74vUzHGu"
      }
    },
    {
      "cell_type": "code",
      "execution_count": null,
      "metadata": {
        "id": "L_56Fil5wSks"
      },
      "outputs": [],
      "source": [
        "!unzip /content/checkpoint.zip"
      ]
    },
    {
      "cell_type": "code",
      "execution_count": null,
      "metadata": {
        "id": "82H7uPjax8_c"
      },
      "outputs": [],
      "source": [
        "!pip install datasets\n",
        "!pip install peft\n",
        "!pip install trl\n",
        "!pip install flash_attn"
      ]
    },
    {
      "cell_type": "code",
      "execution_count": null,
      "metadata": {
        "id": "LhSFqFHG2xVc"
      },
      "outputs": [],
      "source": [
        "import torch\n",
        "from transformers import AutoModelForCausalLM, AutoTokenizer, pipeline\n",
        "\n",
        "torch.random.manual_seed(0)\n",
        "\n",
        "model_id = \"microsoft/Phi-3-mini-128k-instruct\"   # @param ['microsoft/Phi-3-mini-128k-instruct', 'microsoft/Phi-3-mini-4k-instruct']\n",
        "\n",
        "checkpoint_path = \"microsoft/Phi-3-mini-128k-instruct\"\n",
        "model_kwargs = dict(\n",
        "    use_cache=False,\n",
        "    trust_remote_code=True,\n",
        "    attn_implementation=\"flash_attention_2\",  # loading the model with flash-attenstion support\n",
        "    torch_dtype=torch.bfloat16,\n",
        "    device_map=None\n",
        ")\n",
        "model = AutoModelForCausalLM.from_pretrained(model_id, **model_kwargs)\n",
        "\n",
        "checkpoint = '/content/checkpoint_dir/checkpoint-320'  # @param {type: \"string\"}\n",
        "\n",
        "model = AutoModelForCausalLM.from_pretrained(\n",
        "    checkpoint,\n",
        "    device_map=\"cuda\",\n",
        "    torch_dtype=\"auto\",\n",
        "    trust_remote_code=True,\n",
        ")\n",
        "\n",
        "tokenizer = AutoTokenizer.from_pretrained(checkpoint)\n"
      ]
    },
    {
      "cell_type": "code",
      "execution_count": null,
      "metadata": {
        "id": "Waubjn133Gh9"
      },
      "outputs": [],
      "source": [
        "prompt = 'Which famous landmarks should I visit in London, beyond the usual ones?'  # @param {type: \"string\"}\n",
        "\n",
        "messages = [\n",
        "    {\"role\": \"user\", \"content\": prompt},\n",
        "]\n",
        "\n",
        "pipe = pipeline(\n",
        "    \"text-generation\",\n",
        "    model=model,\n",
        "    tokenizer=tokenizer,\n",
        ")\n",
        "\n",
        "generation_args = {\n",
        "    \"max_new_tokens\": 500,\n",
        "    \"return_full_text\": False,\n",
        "    \"temperature\": 0.0,\n",
        "    \"do_sample\": False,\n",
        "}\n",
        "\n",
        "output = pipe(messages, **generation_args)\n",
        "Which famous landmarks should I visit in London, beyond the usual ones?\n",
        "\n",
        "print(output[0]['generated_text'])\n"
      ]
    },
    {
      "cell_type": "code",
      "execution_count": null,
      "metadata": {
        "id": "biwgdNyR55QG"
      },
      "outputs": [],
      "source": []
    }
  ],
  "metadata": {
    "accelerator": "GPU",
    "colab": {
      "gpuType": "A100",
      "machine_shape": "hm",
      "provenance": [],
      "authorship_tag": "ABX9TyORxCUS11arvDoNDsPfXRib",
      "include_colab_link": true
    },
    "kernelspec": {
      "display_name": "Python 3",
      "name": "python3"
    },
    "language_info": {
      "name": "python"
    }
  },
  "nbformat": 4,
  "nbformat_minor": 0
}